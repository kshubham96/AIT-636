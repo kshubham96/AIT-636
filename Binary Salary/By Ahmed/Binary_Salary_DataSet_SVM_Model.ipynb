{
 "cells": [
  {
   "cell_type": "markdown",
   "id": "26892afe",
   "metadata": {},
   "source": [
    "## Import Libraries"
   ]
  },
  {
   "cell_type": "code",
   "execution_count": 3,
   "id": "80ff31bb",
   "metadata": {},
   "outputs": [],
   "source": [
    "# Importing the libraries\n",
    "\n",
    "import numpy as np\n",
    "import matplotlib.pyplot as plt\n",
    "import pandas as pd\n",
    "import seaborn as sns\n",
    "from sklearn.neighbors import KNeighborsClassifier, KNeighborsRegressor\n",
    "from math import sqrt\n",
    "from sklearn.linear_model import LogisticRegression\n",
    "from sklearn.linear_model import Perceptron\n",
    "import sys\n",
    "from collections import Counter\n",
    "import sklearn\n",
    "from sklearn import tree\n",
    "from sklearn.tree import DecisionTreeClassifier, DecisionTreeRegressor\n",
    "from sklearn import preprocessing\n",
    "from sklearn.svm import SVC\n",
    "from sklearn import metrics\n",
    "from sklearn.model_selection import train_test_split\n",
    "from sklearn.preprocessing import StandardScaler\n",
    "from sklearn.metrics import confusion_matrix\n",
    "from sklearn.model_selection import GridSearchCV\n",
    "from matplotlib.colors import ListedColormap\n",
    "from sklearn.model_selection import train_test_split, cross_val_score\n",
    "from sklearn.neural_network import MLPClassifier\n",
    "from sklearn.metrics import accuracy_score, confusion_matrix, ConfusionMatrixDisplay\n",
    "from itertools import combinations\n",
    "import time\n",
    "from sklearn.preprocessing import StandardScaler\n",
    "from sklearn.decomposition import PCA\n",
    "from pretty_confusion_matrix import pp_matrix, pp_matrix_from_data"
   ]
  },
  {
   "cell_type": "markdown",
   "id": "39eb9704",
   "metadata": {},
   "source": [
    "## Import dataset"
   ]
  },
  {
   "cell_type": "code",
   "execution_count": 4,
   "id": "ee0adb75",
   "metadata": {},
   "outputs": [
    {
     "data": {
      "text/html": [
       "<div>\n",
       "<style scoped>\n",
       "    .dataframe tbody tr th:only-of-type {\n",
       "        vertical-align: middle;\n",
       "    }\n",
       "\n",
       "    .dataframe tbody tr th {\n",
       "        vertical-align: top;\n",
       "    }\n",
       "\n",
       "    .dataframe thead th {\n",
       "        text-align: right;\n",
       "    }\n",
       "</style>\n",
       "<table border=\"1\" class=\"dataframe\">\n",
       "  <thead>\n",
       "    <tr style=\"text-align: right;\">\n",
       "      <th></th>\n",
       "      <th>ID (this is not a feature)</th>\n",
       "      <th>age</th>\n",
       "      <th>workclass</th>\n",
       "      <th>fnlwgt</th>\n",
       "      <th>education</th>\n",
       "      <th>education-num</th>\n",
       "      <th>marital-status</th>\n",
       "      <th>occupation</th>\n",
       "      <th>relationship</th>\n",
       "      <th>race</th>\n",
       "      <th>sex</th>\n",
       "      <th>capital-gain</th>\n",
       "      <th>capital-loss</th>\n",
       "      <th>hours-per-week</th>\n",
       "      <th>native-country</th>\n",
       "      <th>salary</th>\n",
       "    </tr>\n",
       "  </thead>\n",
       "  <tbody>\n",
       "    <tr>\n",
       "      <th>0</th>\n",
       "      <td>1</td>\n",
       "      <td>36</td>\n",
       "      <td>Private</td>\n",
       "      <td>355053</td>\n",
       "      <td>HS-grad</td>\n",
       "      <td>9</td>\n",
       "      <td>Separated</td>\n",
       "      <td>Other-service</td>\n",
       "      <td>Unmarried</td>\n",
       "      <td>Black</td>\n",
       "      <td>Female</td>\n",
       "      <td>0</td>\n",
       "      <td>0</td>\n",
       "      <td>28</td>\n",
       "      <td>United-States</td>\n",
       "      <td>&lt;=50K</td>\n",
       "    </tr>\n",
       "    <tr>\n",
       "      <th>1</th>\n",
       "      <td>2</td>\n",
       "      <td>30</td>\n",
       "      <td>Self-emp-inc</td>\n",
       "      <td>132601</td>\n",
       "      <td>Bachelors</td>\n",
       "      <td>13</td>\n",
       "      <td>Married-civ-spouse</td>\n",
       "      <td>Craft-repair</td>\n",
       "      <td>Husband</td>\n",
       "      <td>White</td>\n",
       "      <td>Male</td>\n",
       "      <td>0</td>\n",
       "      <td>0</td>\n",
       "      <td>40</td>\n",
       "      <td>United-States</td>\n",
       "      <td>&gt;50K</td>\n",
       "    </tr>\n",
       "    <tr>\n",
       "      <th>2</th>\n",
       "      <td>3</td>\n",
       "      <td>19</td>\n",
       "      <td>Private</td>\n",
       "      <td>63814</td>\n",
       "      <td>Some-college</td>\n",
       "      <td>10</td>\n",
       "      <td>Never-married</td>\n",
       "      <td>Adm-clerical</td>\n",
       "      <td>Not-in-family</td>\n",
       "      <td>White</td>\n",
       "      <td>Female</td>\n",
       "      <td>0</td>\n",
       "      <td>0</td>\n",
       "      <td>18</td>\n",
       "      <td>United-States</td>\n",
       "      <td>&lt;=50K</td>\n",
       "    </tr>\n",
       "    <tr>\n",
       "      <th>3</th>\n",
       "      <td>4</td>\n",
       "      <td>44</td>\n",
       "      <td>Private</td>\n",
       "      <td>112507</td>\n",
       "      <td>Some-college</td>\n",
       "      <td>10</td>\n",
       "      <td>Married-civ-spouse</td>\n",
       "      <td>Sales</td>\n",
       "      <td>Husband</td>\n",
       "      <td>White</td>\n",
       "      <td>Male</td>\n",
       "      <td>0</td>\n",
       "      <td>0</td>\n",
       "      <td>40</td>\n",
       "      <td>United-States</td>\n",
       "      <td>&lt;=50K</td>\n",
       "    </tr>\n",
       "    <tr>\n",
       "      <th>4</th>\n",
       "      <td>5</td>\n",
       "      <td>51</td>\n",
       "      <td>Self-emp-inc</td>\n",
       "      <td>126850</td>\n",
       "      <td>HS-grad</td>\n",
       "      <td>9</td>\n",
       "      <td>Married-civ-spouse</td>\n",
       "      <td>Transport-moving</td>\n",
       "      <td>Husband</td>\n",
       "      <td>White</td>\n",
       "      <td>Male</td>\n",
       "      <td>0</td>\n",
       "      <td>0</td>\n",
       "      <td>65</td>\n",
       "      <td>United-States</td>\n",
       "      <td>&lt;=50K</td>\n",
       "    </tr>\n",
       "    <tr>\n",
       "      <th>...</th>\n",
       "      <td>...</td>\n",
       "      <td>...</td>\n",
       "      <td>...</td>\n",
       "      <td>...</td>\n",
       "      <td>...</td>\n",
       "      <td>...</td>\n",
       "      <td>...</td>\n",
       "      <td>...</td>\n",
       "      <td>...</td>\n",
       "      <td>...</td>\n",
       "      <td>...</td>\n",
       "      <td>...</td>\n",
       "      <td>...</td>\n",
       "      <td>...</td>\n",
       "      <td>...</td>\n",
       "      <td>...</td>\n",
       "    </tr>\n",
       "    <tr>\n",
       "      <th>38837</th>\n",
       "      <td>38838</td>\n",
       "      <td>56</td>\n",
       "      <td>Self-emp-not-inc</td>\n",
       "      <td>157486</td>\n",
       "      <td>10th</td>\n",
       "      <td>6</td>\n",
       "      <td>Divorced</td>\n",
       "      <td>Sales</td>\n",
       "      <td>Own-child</td>\n",
       "      <td>White</td>\n",
       "      <td>Male</td>\n",
       "      <td>0</td>\n",
       "      <td>0</td>\n",
       "      <td>40</td>\n",
       "      <td>United-States</td>\n",
       "      <td>&lt;=50K</td>\n",
       "    </tr>\n",
       "    <tr>\n",
       "      <th>38838</th>\n",
       "      <td>38839</td>\n",
       "      <td>43</td>\n",
       "      <td>?</td>\n",
       "      <td>109912</td>\n",
       "      <td>Bachelors</td>\n",
       "      <td>13</td>\n",
       "      <td>Married-civ-spouse</td>\n",
       "      <td>?</td>\n",
       "      <td>Wife</td>\n",
       "      <td>White</td>\n",
       "      <td>Female</td>\n",
       "      <td>0</td>\n",
       "      <td>0</td>\n",
       "      <td>7</td>\n",
       "      <td>United-States</td>\n",
       "      <td>&gt;50K</td>\n",
       "    </tr>\n",
       "    <tr>\n",
       "      <th>38839</th>\n",
       "      <td>38840</td>\n",
       "      <td>28</td>\n",
       "      <td>Private</td>\n",
       "      <td>271012</td>\n",
       "      <td>HS-grad</td>\n",
       "      <td>9</td>\n",
       "      <td>Never-married</td>\n",
       "      <td>Adm-clerical</td>\n",
       "      <td>Not-in-family</td>\n",
       "      <td>Black</td>\n",
       "      <td>Female</td>\n",
       "      <td>0</td>\n",
       "      <td>0</td>\n",
       "      <td>40</td>\n",
       "      <td>United-States</td>\n",
       "      <td>&lt;=50K</td>\n",
       "    </tr>\n",
       "    <tr>\n",
       "      <th>38840</th>\n",
       "      <td>38841</td>\n",
       "      <td>75</td>\n",
       "      <td>Private</td>\n",
       "      <td>191446</td>\n",
       "      <td>1st-4th</td>\n",
       "      <td>2</td>\n",
       "      <td>Married-civ-spouse</td>\n",
       "      <td>Other-service</td>\n",
       "      <td>Other-relative</td>\n",
       "      <td>Black</td>\n",
       "      <td>Female</td>\n",
       "      <td>0</td>\n",
       "      <td>0</td>\n",
       "      <td>16</td>\n",
       "      <td>United-States</td>\n",
       "      <td>&lt;=50K</td>\n",
       "    </tr>\n",
       "    <tr>\n",
       "      <th>38841</th>\n",
       "      <td>38842</td>\n",
       "      <td>50</td>\n",
       "      <td>Private</td>\n",
       "      <td>210217</td>\n",
       "      <td>Bachelors</td>\n",
       "      <td>13</td>\n",
       "      <td>Divorced</td>\n",
       "      <td>Sales</td>\n",
       "      <td>Unmarried</td>\n",
       "      <td>Black</td>\n",
       "      <td>Male</td>\n",
       "      <td>0</td>\n",
       "      <td>0</td>\n",
       "      <td>40</td>\n",
       "      <td>United-States</td>\n",
       "      <td>&lt;=50K</td>\n",
       "    </tr>\n",
       "  </tbody>\n",
       "</table>\n",
       "<p>38842 rows × 16 columns</p>\n",
       "</div>"
      ],
      "text/plain": [
       "       ID (this is not a feature)  age          workclass  fnlwgt  \\\n",
       "0                               1   36            Private  355053   \n",
       "1                               2   30       Self-emp-inc  132601   \n",
       "2                               3   19            Private   63814   \n",
       "3                               4   44            Private  112507   \n",
       "4                               5   51       Self-emp-inc  126850   \n",
       "...                           ...  ...                ...     ...   \n",
       "38837                       38838   56   Self-emp-not-inc  157486   \n",
       "38838                       38839   43                  ?  109912   \n",
       "38839                       38840   28            Private  271012   \n",
       "38840                       38841   75            Private  191446   \n",
       "38841                       38842   50            Private  210217   \n",
       "\n",
       "           education  education-num       marital-status         occupation  \\\n",
       "0            HS-grad              9            Separated      Other-service   \n",
       "1          Bachelors             13   Married-civ-spouse       Craft-repair   \n",
       "2       Some-college             10        Never-married       Adm-clerical   \n",
       "3       Some-college             10   Married-civ-spouse              Sales   \n",
       "4            HS-grad              9   Married-civ-spouse   Transport-moving   \n",
       "...              ...            ...                  ...                ...   \n",
       "38837           10th              6             Divorced              Sales   \n",
       "38838      Bachelors             13   Married-civ-spouse                  ?   \n",
       "38839        HS-grad              9        Never-married       Adm-clerical   \n",
       "38840        1st-4th              2   Married-civ-spouse      Other-service   \n",
       "38841      Bachelors             13             Divorced              Sales   \n",
       "\n",
       "          relationship    race      sex  capital-gain  capital-loss  \\\n",
       "0            Unmarried   Black   Female             0             0   \n",
       "1              Husband   White     Male             0             0   \n",
       "2        Not-in-family   White   Female             0             0   \n",
       "3              Husband   White     Male             0             0   \n",
       "4              Husband   White     Male             0             0   \n",
       "...                ...     ...      ...           ...           ...   \n",
       "38837        Own-child   White     Male             0             0   \n",
       "38838             Wife   White   Female             0             0   \n",
       "38839    Not-in-family   Black   Female             0             0   \n",
       "38840   Other-relative   Black   Female             0             0   \n",
       "38841        Unmarried   Black     Male             0             0   \n",
       "\n",
       "       hours-per-week  native-country salary  \n",
       "0                  28   United-States  <=50K  \n",
       "1                  40   United-States   >50K  \n",
       "2                  18   United-States  <=50K  \n",
       "3                  40   United-States  <=50K  \n",
       "4                  65   United-States  <=50K  \n",
       "...               ...             ...    ...  \n",
       "38837              40   United-States  <=50K  \n",
       "38838               7   United-States   >50K  \n",
       "38839              40   United-States  <=50K  \n",
       "38840              16   United-States  <=50K  \n",
       "38841              40   United-States  <=50K  \n",
       "\n",
       "[38842 rows x 16 columns]"
      ]
     },
     "execution_count": 4,
     "metadata": {},
     "output_type": "execute_result"
    }
   ],
   "source": [
    "# Importing the datasets\n",
    "dataset = pd.read_csv('train.csv')\n",
    "dataset"
   ]
  },
  {
   "cell_type": "code",
   "execution_count": 5,
   "id": "b7a1eeaa",
   "metadata": {},
   "outputs": [
    {
     "name": "stdout",
     "output_type": "stream",
     "text": [
      "<class 'pandas.core.frame.DataFrame'>\n",
      "RangeIndex: 38842 entries, 0 to 38841\n",
      "Data columns (total 16 columns):\n",
      " #   Column                      Non-Null Count  Dtype \n",
      "---  ------                      --------------  ----- \n",
      " 0   ID (this is not a feature)  38842 non-null  int64 \n",
      " 1   age                         38842 non-null  int64 \n",
      " 2   workclass                   38842 non-null  object\n",
      " 3   fnlwgt                      38842 non-null  int64 \n",
      " 4   education                   38842 non-null  object\n",
      " 5   education-num               38842 non-null  int64 \n",
      " 6   marital-status              38842 non-null  object\n",
      " 7   occupation                  38842 non-null  object\n",
      " 8   relationship                38842 non-null  object\n",
      " 9   race                        38842 non-null  object\n",
      " 10  sex                         38842 non-null  object\n",
      " 11  capital-gain                38842 non-null  int64 \n",
      " 12  capital-loss                38842 non-null  int64 \n",
      " 13  hours-per-week              38842 non-null  int64 \n",
      " 14  native-country              38842 non-null  object\n",
      " 15  salary                      38842 non-null  object\n",
      "dtypes: int64(7), object(9)\n",
      "memory usage: 4.7+ MB\n"
     ]
    }
   ],
   "source": [
    "# details of the data set\n",
    "\n",
    "dataset.info()"
   ]
  },
  {
   "cell_type": "code",
   "execution_count": 6,
   "id": "dae39e67",
   "metadata": {},
   "outputs": [
    {
     "data": {
      "text/html": [
       "<div>\n",
       "<style scoped>\n",
       "    .dataframe tbody tr th:only-of-type {\n",
       "        vertical-align: middle;\n",
       "    }\n",
       "\n",
       "    .dataframe tbody tr th {\n",
       "        vertical-align: top;\n",
       "    }\n",
       "\n",
       "    .dataframe thead th {\n",
       "        text-align: right;\n",
       "    }\n",
       "</style>\n",
       "<table border=\"1\" class=\"dataframe\">\n",
       "  <thead>\n",
       "    <tr style=\"text-align: right;\">\n",
       "      <th></th>\n",
       "      <th>ID (this is not a feature)</th>\n",
       "      <th>age</th>\n",
       "      <th>fnlwgt</th>\n",
       "      <th>education-num</th>\n",
       "      <th>capital-gain</th>\n",
       "      <th>capital-loss</th>\n",
       "      <th>hours-per-week</th>\n",
       "    </tr>\n",
       "  </thead>\n",
       "  <tbody>\n",
       "    <tr>\n",
       "      <th>count</th>\n",
       "      <td>38842.000000</td>\n",
       "      <td>38842.000000</td>\n",
       "      <td>3.884200e+04</td>\n",
       "      <td>38842.000000</td>\n",
       "      <td>38842.000000</td>\n",
       "      <td>38842.000000</td>\n",
       "      <td>38842.000000</td>\n",
       "    </tr>\n",
       "    <tr>\n",
       "      <th>mean</th>\n",
       "      <td>19421.500000</td>\n",
       "      <td>38.657664</td>\n",
       "      <td>1.896647e+05</td>\n",
       "      <td>10.079090</td>\n",
       "      <td>1104.456696</td>\n",
       "      <td>88.272334</td>\n",
       "      <td>40.416559</td>\n",
       "    </tr>\n",
       "    <tr>\n",
       "      <th>std</th>\n",
       "      <td>11212.863915</td>\n",
       "      <td>13.723819</td>\n",
       "      <td>1.059645e+05</td>\n",
       "      <td>2.569149</td>\n",
       "      <td>7606.736264</td>\n",
       "      <td>404.032486</td>\n",
       "      <td>12.385112</td>\n",
       "    </tr>\n",
       "    <tr>\n",
       "      <th>min</th>\n",
       "      <td>1.000000</td>\n",
       "      <td>17.000000</td>\n",
       "      <td>1.349200e+04</td>\n",
       "      <td>1.000000</td>\n",
       "      <td>0.000000</td>\n",
       "      <td>0.000000</td>\n",
       "      <td>1.000000</td>\n",
       "    </tr>\n",
       "    <tr>\n",
       "      <th>25%</th>\n",
       "      <td>9711.250000</td>\n",
       "      <td>28.000000</td>\n",
       "      <td>1.173630e+05</td>\n",
       "      <td>9.000000</td>\n",
       "      <td>0.000000</td>\n",
       "      <td>0.000000</td>\n",
       "      <td>40.000000</td>\n",
       "    </tr>\n",
       "    <tr>\n",
       "      <th>50%</th>\n",
       "      <td>19421.500000</td>\n",
       "      <td>37.000000</td>\n",
       "      <td>1.782185e+05</td>\n",
       "      <td>10.000000</td>\n",
       "      <td>0.000000</td>\n",
       "      <td>0.000000</td>\n",
       "      <td>40.000000</td>\n",
       "    </tr>\n",
       "    <tr>\n",
       "      <th>75%</th>\n",
       "      <td>29131.750000</td>\n",
       "      <td>48.000000</td>\n",
       "      <td>2.376275e+05</td>\n",
       "      <td>12.000000</td>\n",
       "      <td>0.000000</td>\n",
       "      <td>0.000000</td>\n",
       "      <td>45.000000</td>\n",
       "    </tr>\n",
       "    <tr>\n",
       "      <th>max</th>\n",
       "      <td>38842.000000</td>\n",
       "      <td>90.000000</td>\n",
       "      <td>1.490400e+06</td>\n",
       "      <td>16.000000</td>\n",
       "      <td>99999.000000</td>\n",
       "      <td>4356.000000</td>\n",
       "      <td>99.000000</td>\n",
       "    </tr>\n",
       "  </tbody>\n",
       "</table>\n",
       "</div>"
      ],
      "text/plain": [
       "       ID (this is not a feature)           age        fnlwgt  education-num  \\\n",
       "count                38842.000000  38842.000000  3.884200e+04   38842.000000   \n",
       "mean                 19421.500000     38.657664  1.896647e+05      10.079090   \n",
       "std                  11212.863915     13.723819  1.059645e+05       2.569149   \n",
       "min                      1.000000     17.000000  1.349200e+04       1.000000   \n",
       "25%                   9711.250000     28.000000  1.173630e+05       9.000000   \n",
       "50%                  19421.500000     37.000000  1.782185e+05      10.000000   \n",
       "75%                  29131.750000     48.000000  2.376275e+05      12.000000   \n",
       "max                  38842.000000     90.000000  1.490400e+06      16.000000   \n",
       "\n",
       "       capital-gain  capital-loss  hours-per-week  \n",
       "count  38842.000000  38842.000000    38842.000000  \n",
       "mean    1104.456696     88.272334       40.416559  \n",
       "std     7606.736264    404.032486       12.385112  \n",
       "min        0.000000      0.000000        1.000000  \n",
       "25%        0.000000      0.000000       40.000000  \n",
       "50%        0.000000      0.000000       40.000000  \n",
       "75%        0.000000      0.000000       45.000000  \n",
       "max    99999.000000   4356.000000       99.000000  "
      ]
     },
     "execution_count": 6,
     "metadata": {},
     "output_type": "execute_result"
    }
   ],
   "source": [
    "# describing the data set\n",
    "\n",
    "dataset.describe()"
   ]
  },
  {
   "cell_type": "code",
   "execution_count": 7,
   "id": "74f2e872",
   "metadata": {},
   "outputs": [
    {
     "data": {
      "text/plain": [
       "38842"
      ]
     },
     "execution_count": 7,
     "metadata": {},
     "output_type": "execute_result"
    }
   ],
   "source": [
    "# Observing the length of data\n",
    "len(dataset)"
   ]
  },
  {
   "cell_type": "markdown",
   "id": "0aaef736",
   "metadata": {},
   "source": [
    "## SVM With Linear Kernel"
   ]
  },
  {
   "cell_type": "code",
   "execution_count": 8,
   "id": "5599e9f1",
   "metadata": {},
   "outputs": [],
   "source": [
    "dataset = dataset.sample(frac=1, random_state=10)\n",
    "holdout = dataset[:3000]\n",
    "dataset = dataset[:-3000]"
   ]
  },
  {
   "cell_type": "code",
   "execution_count": 9,
   "id": "aa8e70ce",
   "metadata": {},
   "outputs": [
    {
     "name": "stdout",
     "output_type": "stream",
     "text": [
      "35842\n",
      "3000\n"
     ]
    }
   ],
   "source": [
    "print(len(dataset))\n",
    "print(len(holdout))"
   ]
  },
  {
   "cell_type": "markdown",
   "id": "44f18a3e",
   "metadata": {},
   "source": [
    "## Exploratory data analysis for SVM Model Analysis"
   ]
  },
  {
   "cell_type": "code",
   "execution_count": 11,
   "id": "3c305e84",
   "metadata": {},
   "outputs": [
    {
     "data": {
      "image/png": "[encoded data removed]",
      "text/plain": [
       "<Figure size 1440x720 with 1 Axes>"
      ]
     },
     "metadata": {},
     "output_type": "display_data"
    }
   ],
   "source": [
    "from matplotlib import pyplot\n",
    "sns.set(style=\"whitegrid\", font_scale=1.2)\n",
    "\n",
    "a4_dims = (20, 10)\n",
    "fig, ax = pyplot.subplots(figsize=a4_dims)\n",
    "g = sns.countplot(y=\"race\", hue=\"salary\", data=dataset, palette=\"muted\")"
   ]
  },
  {
   "cell_type": "code",
   "execution_count": 9,
   "id": "f171cba2",
   "metadata": {},
   "outputs": [],
   "source": [
    "# There is a growth in the proportion of people whose income is larger than 50k the higher the education attained gets. \n",
    "# The growth is almost non-existent for the first few levels from pre-school to 12th, this may indicate that the growth is not entirely linear. \n",
    "# For the Masters and Doctorate category, the number of people who earn more than 50k is higher than the people who earn less than 50k. Overall, we can see that there is indeed a correlation between the income variable and the level of education attained.\n",
    "\n",
    "# Let's then take a look at marital status. Which is another interesting variable."
   ]
  },
  {
   "cell_type": "code",
   "execution_count": 12,
   "id": "8e1cd75c",
   "metadata": {},
   "outputs": [
    {
     "data": {
      "image/png": "[encoded data removed]",
      "text/plain": [
       "<Figure size 1440x720 with 1 Axes>"
      ]
     },
     "metadata": {},
     "output_type": "display_data"
    }
   ],
   "source": [
    "sns.set(style=\"whitegrid\", font_scale=1.2)\n",
    "\n",
    "# Draw a nested barplot to show survival for class and sex\n",
    "a4_dims = (20, 10)\n",
    "fig, ax = pyplot.subplots(figsize=a4_dims)\n",
    "g = sns.countplot(y=\"marital-status\", hue=\"salary\", data=dataset, palette=\"muted\")"
   ]
  },
  {
   "cell_type": "code",
   "execution_count": 11,
   "id": "d005cd67",
   "metadata": {},
   "outputs": [],
   "source": [
    "# The number of people whose income is lesser than 50k is significantly higher than the number of people who earn more or equal to 50k for all of the statuses except Married-civ-spouse. \n",
    "# For the status Married-civ-spouse, the number of people who earn more or equal to 50k is close to the number of people who earn less. This may be because as a spouse, being able to provide for the family or children would normally require an salary higher than 50k. \n",
    "# Overall, this variable shows correlation as well to the income variable as there are noticeable differences."
   ]
  },
  {
   "cell_type": "code",
   "execution_count": 13,
   "id": "1e6fb6e9",
   "metadata": {},
   "outputs": [
    {
     "data": {
      "text/plain": [
       "<AxesSubplot:>"
      ]
     },
     "execution_count": 13,
     "metadata": {},
     "output_type": "execute_result"
    },
    {
     "data": {
      "image/png": "[encoded data removed]",
      "text/plain": [
       "<Figure size 1440x720 with 2 Axes>"
      ]
     },
     "metadata": {},
     "output_type": "display_data"
    }
   ],
   "source": [
    "dataset = pd.get_dummies(dataset, columns=['salary'])\n",
    "dataset = dataset.drop(['salary_<=50K'], axis=1)\n",
    "corr = dataset.corr()\n",
    "a4_dims = (20, 10)\n",
    "fig, ax = pyplot.subplots(figsize=a4_dims)\n",
    "sns.heatmap(corr, annot=True)"
   ]
  },
  {
   "cell_type": "code",
   "execution_count": 13,
   "id": "646f1c31",
   "metadata": {},
   "outputs": [],
   "source": [
    "# The pair of variables with the highest correlation would be the \"educationnum\" and \"salary>50k\". \n",
    "# This makes sense as we've observed earlier that there is indeed a difference in the income variable the higher the level of attained education becomes. \n",
    "# Another noticeable pair would be \"income>50k\" and \"age\", this is understandable as the higher your age, the more likely that you've attained a higher position at a company. \n",
    "# \"hours.per.week\" paired with \"salary>50k\" also has the same correlation as the previous pair. This makes sense as more hours per week renderred could affect the amount of pay or income that you would obtain. \n",
    "# Lastly, the pair \"capital.gain\" and \"salary_>50K\" is also correlated to each other. A higher capital gain could also indicate a higher income so this pair being correlated is also understandable."
   ]
  },
  {
   "cell_type": "code",
   "execution_count": 14,
   "id": "55f6ace5",
   "metadata": {},
   "outputs": [],
   "source": [
    "dataset_2 = dataset.copy()\n",
    "dataset = pd.get_dummies(dataset, columns=['occupation', 'race', 'workclass', 'marital-status', 'relationship'])"
   ]
  },
  {
   "cell_type": "code",
   "execution_count": 15,
   "id": "a944ebb4",
   "metadata": {},
   "outputs": [
    {
     "data": {
      "text/plain": [
       "race_ Black                         race_ White                          -0.791166\n",
       "marital-status_ Never-married       marital-status_ Married-civ-spouse   -0.644716\n",
       "relationship_ Husband               marital-status_ Never-married        -0.576685\n",
       "marital-status_ Never-married       age                                  -0.540083\n",
       "marital-status_ Married-civ-spouse  relationship_ Not-in-family          -0.538669\n",
       "                                                                            ...   \n",
       "salary_>50K                         marital-status_ Married-civ-spouse    0.448888\n",
       "relationship_ Own-child             marital-status_ Never-married         0.513645\n",
       "relationship_ Husband               marital-status_ Married-civ-spouse    0.893452\n",
       "workclass_ ?                        occupation_ ?                         0.998721\n",
       "ID (this is not a feature)          ID (this is not a feature)            1.000000\n",
       "Length: 1226, dtype: float64"
      ]
     },
     "execution_count": 15,
     "metadata": {},
     "output_type": "execute_result"
    }
   ],
   "source": [
    "dataset.corr().unstack().sort_values().drop_duplicates()"
   ]
  },
  {
   "cell_type": "code",
   "execution_count": 16,
   "id": "79617766",
   "metadata": {},
   "outputs": [],
   "source": [
    "dataset = dataset_2\n",
    "dataset = pd.get_dummies(dataset, columns=['occupation', 'race', 'workclass', 'marital-status'])"
   ]
  },
  {
   "cell_type": "code",
   "execution_count": 17,
   "id": "23e46d5e",
   "metadata": {},
   "outputs": [
    {
     "data": {
      "text/plain": [
       "0.3320143665537045"
      ]
     },
     "execution_count": 17,
     "metadata": {},
     "output_type": "execute_result"
    }
   ],
   "source": [
    "dataset['salary_>50K'].corr(dataset['education-num'])"
   ]
  },
  {
   "cell_type": "code",
   "execution_count": 18,
   "id": "c3065348",
   "metadata": {},
   "outputs": [],
   "source": [
    "# Since we've noticed that the first few levels exhibited an almost unnoticeable growth in the number of people earning more than 50k, we'll group the first 8 educational levels into one."
   ]
  },
  {
   "cell_type": "code",
   "execution_count": 19,
   "id": "c0e010f2",
   "metadata": {},
   "outputs": [],
   "source": [
    "dataset['new_education-num'] = dataset.apply(lambda x: x['education-num']-8 if x['education-num'] >= 9 else 0, axis=1)"
   ]
  },
  {
   "cell_type": "code",
   "execution_count": 20,
   "id": "613f70ab",
   "metadata": {},
   "outputs": [
    {
     "data": {
      "text/plain": [
       "0.3532202123125932"
      ]
     },
     "execution_count": 20,
     "metadata": {},
     "output_type": "execute_result"
    }
   ],
   "source": [
    "dataset['salary_>50K'].corr(dataset['new_education-num'])"
   ]
  },
  {
   "cell_type": "code",
   "execution_count": 21,
   "id": "ec4ff265",
   "metadata": {},
   "outputs": [],
   "source": [
    "# We can see a small increase in correlation as compared to our previous unchanged variable. \n",
    "# Note that correlation that is used is Pearson Correlation and it only takes into account the linear relationship between the two variables."
   ]
  },
  {
   "cell_type": "code",
   "execution_count": 22,
   "id": "5c40f4f6",
   "metadata": {},
   "outputs": [
    {
     "data": {
      "text/plain": [
       "Index(['ID (this is not a feature)', 'age', 'fnlwgt', 'capital-gain',\n",
       "       'capital-loss', 'hours-per-week', 'new_education-num'],\n",
       "      dtype='object')"
      ]
     },
     "execution_count": 22,
     "metadata": {},
     "output_type": "execute_result"
    }
   ],
   "source": [
    "from sklearn.feature_selection import SelectPercentile, chi2\n",
    "\n",
    "X = dataset.drop(['salary_>50K', 'education', 'sex', 'native-country', 'education-num', 'relationship'], axis=1)\n",
    "y = dataset[['salary_>50K']]\n",
    "\n",
    "test = SelectPercentile(score_func=chi2, percentile=16)\n",
    "\n",
    "fit = test.fit(X, y)\n",
    "\n",
    "X.columns[test.get_support()]"
   ]
  },
  {
   "cell_type": "code",
   "execution_count": 23,
   "id": "f8d4ccb1",
   "metadata": {},
   "outputs": [],
   "source": [
    "from sklearn.preprocessing import StandardScaler\n",
    "\n",
    "X = dataset[['age', 'fnlwgt', 'capital-gain', 'capital-loss', 'hours-per-week',\n",
    "       'marital-status_ Married-civ-spouse', 'new_education-num']]\n",
    "\n",
    "scaler = StandardScaler()\n",
    "scaler.fit(X)\n",
    "X = scaler.transform(X)"
   ]
  },
  {
   "cell_type": "markdown",
   "id": "0a730eda",
   "metadata": {},
   "source": [
    "## Modeling and Evaluation"
   ]
  },
  {
   "cell_type": "code",
   "execution_count": 24,
   "id": "9bb35e88",
   "metadata": {},
   "outputs": [
    {
     "data": {
      "text/plain": [
       "LinearSVC(dual=False, max_iter=10000)"
      ]
     },
     "execution_count": 24,
     "metadata": {},
     "output_type": "execute_result"
    }
   ],
   "source": [
    "from sklearn.svm import SVC, LinearSVC\n",
    "model = LinearSVC(max_iter = 10000, dual=False)\n",
    "model.fit(X, y.values.ravel())"
   ]
  },
  {
   "cell_type": "code",
   "execution_count": 25,
   "id": "3e56a252",
   "metadata": {},
   "outputs": [],
   "source": [
    "# Let's now utilize our holdout set to assess our model's performance. \n",
    "# The same steps we took during the feature engineering abd selection phase will be done again for our holdout set."
   ]
  },
  {
   "cell_type": "code",
   "execution_count": 26,
   "id": "09032656",
   "metadata": {},
   "outputs": [],
   "source": [
    "holdout['new_education-num'] = holdout.apply(lambda x: x['education-num']-8 if x['education-num'] >= 9 else 0, axis=1)\n",
    "\n",
    "holdout = pd.get_dummies(holdout, columns=['occupation', 'race', 'workclass', 'marital-status', 'salary'])\n",
    "\n",
    "test_X = holdout[['age', 'fnlwgt', 'capital-gain', 'capital-loss', 'hours-per-week',\n",
    "       'marital-status_ Married-civ-spouse', 'new_education-num']]\n",
    "test_y = holdout[['salary_>50K']]\n",
    "\n",
    "test_X = scaler.transform(test_X)\n",
    "y_pred = model.predict(test_X)"
   ]
  },
  {
   "cell_type": "code",
   "execution_count": 27,
   "id": "07f252da",
   "metadata": {},
   "outputs": [
    {
     "name": "stdout",
     "output_type": "stream",
     "text": [
      "                      precision    recall  f1-score   support\n",
      "\n",
      "Income more than 50K       0.87      0.94      0.90      2287\n",
      "Income less than 50K       0.74      0.56      0.64       713\n",
      "\n",
      "            accuracy                           0.85      3000\n",
      "           macro avg       0.81      0.75      0.77      3000\n",
      "        weighted avg       0.84      0.85      0.84      3000\n",
      "\n"
     ]
    }
   ],
   "source": [
    "# Classification report\n",
    "from sklearn.metrics import classification_report\n",
    "\n",
    "print(classification_report(test_y, y_pred, target_names=['Income more than 50K', 'Income less than 50K']))"
   ]
  },
  {
   "cell_type": "markdown",
   "id": "85e7015a",
   "metadata": {},
   "source": [
    "# With Linear SVM we got 85% accuracy for our model."
   ]
  },
  {
   "cell_type": "markdown",
   "id": "10ae1478",
   "metadata": {},
   "source": [
    "## SVM Non-linear Kernel with RBF"
   ]
  },
  {
   "cell_type": "code",
   "execution_count": 28,
   "id": "6977e698",
   "metadata": {},
   "outputs": [
    {
     "name": "stdout",
     "output_type": "stream",
     "text": [
      "The best parameters are {'C': 10, 'gamma': 'scale'} with a score of 0.85\n"
     ]
    }
   ],
   "source": [
    "C_range = [0.1, 1, 10, 100]\n",
    "gamma_vals = [0.001, 0.0001, 'scale']\n",
    "param_grid = dict(gamma=gamma_vals, C=C_range)\n",
    "\n",
    "grid = GridSearchCV(SVC(kernel='rbf'), param_grid=param_grid, cv=10)\n",
    "grid.fit(X, y.values.ravel())\n",
    "\n",
    "print(\"The best parameters are %s with a score of %0.2f\"\n",
    "      % (grid.best_params_, grid.best_score_))"
   ]
  },
  {
   "cell_type": "code",
   "execution_count": 29,
   "id": "26e36b09",
   "metadata": {},
   "outputs": [
    {
     "data": {
      "text/plain": [
       "SVC(C=10)"
      ]
     },
     "execution_count": 29,
     "metadata": {},
     "output_type": "execute_result"
    }
   ],
   "source": [
    "model = SVC(kernel='rbf', **grid.best_params_)\n",
    "model"
   ]
  },
  {
   "cell_type": "code",
   "execution_count": 30,
   "id": "652f8609",
   "metadata": {},
   "outputs": [],
   "source": [
    "model = model.fit(X, y.values.ravel())"
   ]
  },
  {
   "cell_type": "code",
   "execution_count": 31,
   "id": "13ebeb47",
   "metadata": {},
   "outputs": [],
   "source": [
    "y_pred = model.predict(test_X)"
   ]
  },
  {
   "cell_type": "code",
   "execution_count": 32,
   "id": "fb03f407",
   "metadata": {},
   "outputs": [
    {
     "name": "stdout",
     "output_type": "stream",
     "text": [
      "                      precision    recall  f1-score   support\n",
      "\n",
      "Income more than 50K       0.87      0.95      0.91      2287\n",
      "Income less than 50K       0.78      0.56      0.65       713\n",
      "\n",
      "            accuracy                           0.86      3000\n",
      "           macro avg       0.83      0.75      0.78      3000\n",
      "        weighted avg       0.85      0.86      0.85      3000\n",
      "\n"
     ]
    }
   ],
   "source": [
    "from sklearn.metrics import classification_report\n",
    "\n",
    "print(classification_report(test_y, y_pred, target_names=['Income more than 50K', 'Income less than 50K']))"
   ]
  },
  {
   "cell_type": "markdown",
   "id": "07247329",
   "metadata": {},
   "source": [
    "# With Non-Linear Kernel \"RBF\" SVM we got 84% accuracy for our model."
   ]
  }
 ],
 "metadata": {
  "kernelspec": {
   "display_name": "Python 3 (ipykernel)",
   "language": "python",
   "name": "python3"
  },
  "language_info": {
   "codemirror_mode": {
    "name": "ipython",
    "version": 3
   },
   "file_extension": ".py",
   "mimetype": "text/x-python",
   "name": "python",
   "nbconvert_exporter": "python",
   "pygments_lexer": "ipython3",
   "version": "3.8.6"
  }
 },
 "nbformat": 4,
 "nbformat_minor": 5
}
