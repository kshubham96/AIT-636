{
 "cells": [
  {
   "cell_type": "code",
   "execution_count": 20,
   "metadata": {},
   "outputs": [],
   "source": [
    "# import libraries\n",
    "\n",
    "import pandas as pd\n",
    "import seaborn as sns\n",
    "import matplotlib.pyplot as plt\n",
    "from sklearn.preprocessing import StandardScaler\n",
    "from sklearn.model_selection import train_test_split\n",
    "from sklearn.linear_model import LogisticRegression\n",
    "from sklearn.linear_model import Perceptron\n",
    "from sklearn import metrics\n",
    "from sklearn import preprocessing\n"
   ]
  },
  {
   "cell_type": "code",
   "execution_count": 3,
   "metadata": {
    "scrolled": true
   },
   "outputs": [
    {
     "data": {
      "text/html": [
       "<div>\n",
       "<style scoped>\n",
       "    .dataframe tbody tr th:only-of-type {\n",
       "        vertical-align: middle;\n",
       "    }\n",
       "\n",
       "    .dataframe tbody tr th {\n",
       "        vertical-align: top;\n",
       "    }\n",
       "\n",
       "    .dataframe thead th {\n",
       "        text-align: right;\n",
       "    }\n",
       "</style>\n",
       "<table border=\"1\" class=\"dataframe\">\n",
       "  <thead>\n",
       "    <tr style=\"text-align: right;\">\n",
       "      <th></th>\n",
       "      <th>ID (this is not a feature)</th>\n",
       "      <th>age</th>\n",
       "      <th>workclass</th>\n",
       "      <th>fnlwgt</th>\n",
       "      <th>education</th>\n",
       "      <th>education-num</th>\n",
       "      <th>marital-status</th>\n",
       "      <th>occupation</th>\n",
       "      <th>relationship</th>\n",
       "      <th>race</th>\n",
       "      <th>sex</th>\n",
       "      <th>capital-gain</th>\n",
       "      <th>capital-loss</th>\n",
       "      <th>hours-per-week</th>\n",
       "      <th>native-country</th>\n",
       "      <th>salary</th>\n",
       "    </tr>\n",
       "  </thead>\n",
       "  <tbody>\n",
       "    <tr>\n",
       "      <th>0</th>\n",
       "      <td>1</td>\n",
       "      <td>36</td>\n",
       "      <td>Private</td>\n",
       "      <td>355053</td>\n",
       "      <td>HS-grad</td>\n",
       "      <td>9</td>\n",
       "      <td>Separated</td>\n",
       "      <td>Other-service</td>\n",
       "      <td>Unmarried</td>\n",
       "      <td>Black</td>\n",
       "      <td>Female</td>\n",
       "      <td>0</td>\n",
       "      <td>0</td>\n",
       "      <td>28</td>\n",
       "      <td>United-States</td>\n",
       "      <td>&lt;=50K</td>\n",
       "    </tr>\n",
       "    <tr>\n",
       "      <th>1</th>\n",
       "      <td>2</td>\n",
       "      <td>30</td>\n",
       "      <td>Self-emp-inc</td>\n",
       "      <td>132601</td>\n",
       "      <td>Bachelors</td>\n",
       "      <td>13</td>\n",
       "      <td>Married-civ-spouse</td>\n",
       "      <td>Craft-repair</td>\n",
       "      <td>Husband</td>\n",
       "      <td>White</td>\n",
       "      <td>Male</td>\n",
       "      <td>0</td>\n",
       "      <td>0</td>\n",
       "      <td>40</td>\n",
       "      <td>United-States</td>\n",
       "      <td>&gt;50K</td>\n",
       "    </tr>\n",
       "    <tr>\n",
       "      <th>2</th>\n",
       "      <td>3</td>\n",
       "      <td>19</td>\n",
       "      <td>Private</td>\n",
       "      <td>63814</td>\n",
       "      <td>Some-college</td>\n",
       "      <td>10</td>\n",
       "      <td>Never-married</td>\n",
       "      <td>Adm-clerical</td>\n",
       "      <td>Not-in-family</td>\n",
       "      <td>White</td>\n",
       "      <td>Female</td>\n",
       "      <td>0</td>\n",
       "      <td>0</td>\n",
       "      <td>18</td>\n",
       "      <td>United-States</td>\n",
       "      <td>&lt;=50K</td>\n",
       "    </tr>\n",
       "    <tr>\n",
       "      <th>3</th>\n",
       "      <td>4</td>\n",
       "      <td>44</td>\n",
       "      <td>Private</td>\n",
       "      <td>112507</td>\n",
       "      <td>Some-college</td>\n",
       "      <td>10</td>\n",
       "      <td>Married-civ-spouse</td>\n",
       "      <td>Sales</td>\n",
       "      <td>Husband</td>\n",
       "      <td>White</td>\n",
       "      <td>Male</td>\n",
       "      <td>0</td>\n",
       "      <td>0</td>\n",
       "      <td>40</td>\n",
       "      <td>United-States</td>\n",
       "      <td>&lt;=50K</td>\n",
       "    </tr>\n",
       "    <tr>\n",
       "      <th>4</th>\n",
       "      <td>5</td>\n",
       "      <td>51</td>\n",
       "      <td>Self-emp-inc</td>\n",
       "      <td>126850</td>\n",
       "      <td>HS-grad</td>\n",
       "      <td>9</td>\n",
       "      <td>Married-civ-spouse</td>\n",
       "      <td>Transport-moving</td>\n",
       "      <td>Husband</td>\n",
       "      <td>White</td>\n",
       "      <td>Male</td>\n",
       "      <td>0</td>\n",
       "      <td>0</td>\n",
       "      <td>65</td>\n",
       "      <td>United-States</td>\n",
       "      <td>&lt;=50K</td>\n",
       "    </tr>\n",
       "  </tbody>\n",
       "</table>\n",
       "</div>"
      ],
      "text/plain": [
       "   ID (this is not a feature)  age      workclass  fnlwgt      education  \\\n",
       "0                           1   36        Private  355053        HS-grad   \n",
       "1                           2   30   Self-emp-inc  132601      Bachelors   \n",
       "2                           3   19        Private   63814   Some-college   \n",
       "3                           4   44        Private  112507   Some-college   \n",
       "4                           5   51   Self-emp-inc  126850        HS-grad   \n",
       "\n",
       "   education-num       marital-status         occupation    relationship  \\\n",
       "0              9            Separated      Other-service       Unmarried   \n",
       "1             13   Married-civ-spouse       Craft-repair         Husband   \n",
       "2             10        Never-married       Adm-clerical   Not-in-family   \n",
       "3             10   Married-civ-spouse              Sales         Husband   \n",
       "4              9   Married-civ-spouse   Transport-moving         Husband   \n",
       "\n",
       "     race      sex  capital-gain  capital-loss  hours-per-week  \\\n",
       "0   Black   Female             0             0              28   \n",
       "1   White     Male             0             0              40   \n",
       "2   White   Female             0             0              18   \n",
       "3   White     Male             0             0              40   \n",
       "4   White     Male             0             0              65   \n",
       "\n",
       "   native-country salary  \n",
       "0   United-States  <=50K  \n",
       "1   United-States   >50K  \n",
       "2   United-States  <=50K  \n",
       "3   United-States  <=50K  \n",
       "4   United-States  <=50K  "
      ]
     },
     "execution_count": 3,
     "metadata": {},
     "output_type": "execute_result"
    }
   ],
   "source": [
    "# reading data file\n",
    "\n",
    "data=pd.read_csv('train.csv')\n",
    "\n",
    "data.head()"
   ]
  },
  {
   "cell_type": "code",
   "execution_count": 5,
   "metadata": {},
   "outputs": [
    {
     "data": {
      "text/plain": [
       "ID (this is not a feature)    0\n",
       "age                           0\n",
       "workclass                     0\n",
       "fnlwgt                        0\n",
       "education                     0\n",
       "education-num                 0\n",
       "marital-status                0\n",
       "occupation                    0\n",
       "relationship                  0\n",
       "race                          0\n",
       "sex                           0\n",
       "capital-gain                  0\n",
       "capital-loss                  0\n",
       "hours-per-week                0\n",
       "native-country                0\n",
       "salary                        0\n",
       "dtype: int64"
      ]
     },
     "execution_count": 5,
     "metadata": {},
     "output_type": "execute_result"
    }
   ],
   "source": [
    "# checking for null values\n",
    "\n",
    "data.isna().sum()"
   ]
  },
  {
   "cell_type": "code",
   "execution_count": 9,
   "metadata": {
    "scrolled": true
   },
   "outputs": [],
   "source": [
    "# checking outliers using box plot\n",
    "\n",
    "# for i in data.columns:\n",
    "#     sns.boxplot(data[i])\n",
    "#     plt.show()"
   ]
  },
  {
   "cell_type": "code",
   "execution_count": 10,
   "metadata": {
    "scrolled": true
   },
   "outputs": [],
   "source": [
    "# checking outlier for a feature \"trestbps\"\n",
    "\n",
    "# sns.boxplot(heart_df[\"trestbps\"])"
   ]
  },
  {
   "cell_type": "code",
   "execution_count": 11,
   "metadata": {
    "scrolled": true
   },
   "outputs": [],
   "source": [
    "# histogram plot for a feature -- \"trestbps\"\n",
    "\n",
    "# sns.distplot(heart_df[\"trestbps\"])"
   ]
  },
  {
   "cell_type": "code",
   "execution_count": 13,
   "metadata": {},
   "outputs": [],
   "source": [
    "# removing outliers above 85th percentile\n",
    "\n",
    "# for i in data.columns:\n",
    "#     max = data[i].quantile(0.85)\n",
    "#     data.loc[data[i] > max,i] = max"
   ]
  },
  {
   "cell_type": "code",
   "execution_count": 14,
   "metadata": {
    "scrolled": true
   },
   "outputs": [],
   "source": [
    "# checking the outliers\n",
    "\n",
    "# for i in heart_df.columns:\n",
    "#     sns.boxplot(heart_df[i])\n",
    "#     plt.show()"
   ]
  },
  {
   "cell_type": "code",
   "execution_count": 15,
   "metadata": {},
   "outputs": [
    {
     "data": {
      "text/html": [
       "<div>\n",
       "<style scoped>\n",
       "    .dataframe tbody tr th:only-of-type {\n",
       "        vertical-align: middle;\n",
       "    }\n",
       "\n",
       "    .dataframe tbody tr th {\n",
       "        vertical-align: top;\n",
       "    }\n",
       "\n",
       "    .dataframe thead th {\n",
       "        text-align: right;\n",
       "    }\n",
       "</style>\n",
       "<table border=\"1\" class=\"dataframe\">\n",
       "  <thead>\n",
       "    <tr style=\"text-align: right;\">\n",
       "      <th></th>\n",
       "      <th>ID (this is not a feature)</th>\n",
       "      <th>age</th>\n",
       "      <th>fnlwgt</th>\n",
       "      <th>education-num</th>\n",
       "      <th>capital-gain</th>\n",
       "      <th>capital-loss</th>\n",
       "      <th>hours-per-week</th>\n",
       "    </tr>\n",
       "  </thead>\n",
       "  <tbody>\n",
       "    <tr>\n",
       "      <th>count</th>\n",
       "      <td>38842.000000</td>\n",
       "      <td>38842.000000</td>\n",
       "      <td>3.884200e+04</td>\n",
       "      <td>38842.000000</td>\n",
       "      <td>38842.000000</td>\n",
       "      <td>38842.000000</td>\n",
       "      <td>38842.000000</td>\n",
       "    </tr>\n",
       "    <tr>\n",
       "      <th>mean</th>\n",
       "      <td>18984.475000</td>\n",
       "      <td>37.449230</td>\n",
       "      <td>1.896647e+05</td>\n",
       "      <td>10.079090</td>\n",
       "      <td>1104.456696</td>\n",
       "      <td>88.272334</td>\n",
       "      <td>40.416559</td>\n",
       "    </tr>\n",
       "    <tr>\n",
       "      <th>std</th>\n",
       "      <td>10580.984627</td>\n",
       "      <td>11.533738</td>\n",
       "      <td>1.059645e+05</td>\n",
       "      <td>2.569149</td>\n",
       "      <td>7606.736264</td>\n",
       "      <td>404.032486</td>\n",
       "      <td>12.385112</td>\n",
       "    </tr>\n",
       "    <tr>\n",
       "      <th>min</th>\n",
       "      <td>1.000000</td>\n",
       "      <td>17.000000</td>\n",
       "      <td>1.349200e+04</td>\n",
       "      <td>1.000000</td>\n",
       "      <td>0.000000</td>\n",
       "      <td>0.000000</td>\n",
       "      <td>1.000000</td>\n",
       "    </tr>\n",
       "    <tr>\n",
       "      <th>25%</th>\n",
       "      <td>9711.250000</td>\n",
       "      <td>28.000000</td>\n",
       "      <td>1.173630e+05</td>\n",
       "      <td>9.000000</td>\n",
       "      <td>0.000000</td>\n",
       "      <td>0.000000</td>\n",
       "      <td>40.000000</td>\n",
       "    </tr>\n",
       "    <tr>\n",
       "      <th>50%</th>\n",
       "      <td>19421.500000</td>\n",
       "      <td>37.000000</td>\n",
       "      <td>1.782185e+05</td>\n",
       "      <td>10.000000</td>\n",
       "      <td>0.000000</td>\n",
       "      <td>0.000000</td>\n",
       "      <td>40.000000</td>\n",
       "    </tr>\n",
       "    <tr>\n",
       "      <th>75%</th>\n",
       "      <td>29131.750000</td>\n",
       "      <td>48.000000</td>\n",
       "      <td>2.376275e+05</td>\n",
       "      <td>12.000000</td>\n",
       "      <td>0.000000</td>\n",
       "      <td>0.000000</td>\n",
       "      <td>45.000000</td>\n",
       "    </tr>\n",
       "    <tr>\n",
       "      <th>max</th>\n",
       "      <td>33015.850000</td>\n",
       "      <td>54.000000</td>\n",
       "      <td>1.490400e+06</td>\n",
       "      <td>16.000000</td>\n",
       "      <td>99999.000000</td>\n",
       "      <td>4356.000000</td>\n",
       "      <td>99.000000</td>\n",
       "    </tr>\n",
       "  </tbody>\n",
       "</table>\n",
       "</div>"
      ],
      "text/plain": [
       "       ID (this is not a feature)           age        fnlwgt  education-num  \\\n",
       "count                38842.000000  38842.000000  3.884200e+04   38842.000000   \n",
       "mean                 18984.475000     37.449230  1.896647e+05      10.079090   \n",
       "std                  10580.984627     11.533738  1.059645e+05       2.569149   \n",
       "min                      1.000000     17.000000  1.349200e+04       1.000000   \n",
       "25%                   9711.250000     28.000000  1.173630e+05       9.000000   \n",
       "50%                  19421.500000     37.000000  1.782185e+05      10.000000   \n",
       "75%                  29131.750000     48.000000  2.376275e+05      12.000000   \n",
       "max                  33015.850000     54.000000  1.490400e+06      16.000000   \n",
       "\n",
       "       capital-gain  capital-loss  hours-per-week  \n",
       "count  38842.000000  38842.000000    38842.000000  \n",
       "mean    1104.456696     88.272334       40.416559  \n",
       "std     7606.736264    404.032486       12.385112  \n",
       "min        0.000000      0.000000        1.000000  \n",
       "25%        0.000000      0.000000       40.000000  \n",
       "50%        0.000000      0.000000       40.000000  \n",
       "75%        0.000000      0.000000       45.000000  \n",
       "max    99999.000000   4356.000000       99.000000  "
      ]
     },
     "execution_count": 15,
     "metadata": {},
     "output_type": "execute_result"
    }
   ],
   "source": [
    "# checking the distance of data points\n",
    "\n",
    "data.describe()"
   ]
  },
  {
   "cell_type": "code",
   "execution_count": 21,
   "metadata": {},
   "outputs": [],
   "source": [
    "# Encoding categorical labels into numeric\n",
    "le = preprocessing.LabelEncoder()\n",
    "\n",
    "# Converting string labels into numbers.\n",
    "data['salary']=le.fit_transform(data['salary'])\n",
    "data['workclass']=le.fit_transform(data['workclass'])\n",
    "data['education']=le.fit_transform(data['education'])\n",
    "data['marital-status']=le.fit_transform(data['marital-status'])\n",
    "data['occupation']=le.fit_transform(data['occupation'])\n",
    "data['relationship']=le.fit_transform(data['relationship'])\n",
    "data['race']=le.fit_transform(data['race'])\n",
    "data['sex']=le.fit_transform(data['sex'])\n",
    "data['native-country']=le.fit_transform(data['native-country'])\n",
    "\n",
    "# exclude output feature for scaling\n",
    "\n",
    "X = data.drop('salary',axis = 1)\n",
    "Y = data['salary']"
   ]
  },
  {
   "cell_type": "code",
   "execution_count": 22,
   "metadata": {
    "scrolled": true
   },
   "outputs": [],
   "source": [
    "# Scaling the numeric columns\n",
    "\n",
    "scalar = StandardScaler()\n",
    "X = scalar.fit_transform(X)"
   ]
  },
  {
   "cell_type": "code",
   "execution_count": 12,
   "metadata": {},
   "outputs": [],
   "source": [
    "# splitting the data\n",
    "\n",
    "# X_train, X_test, y_train, y_test = train_test_split(X, Y, test_size=0.2, random_state=42)"
   ]
  },
  {
   "cell_type": "code",
   "execution_count": 24,
   "metadata": {},
   "outputs": [],
   "source": [
    "# fitting the logistic regression model\n",
    "\n",
    "lreg = LogisticRegression(random_state=42).fit(X, Y)"
   ]
  },
  {
   "cell_type": "code",
   "execution_count": 30,
   "metadata": {},
   "outputs": [],
   "source": [
    "\n",
    "# Load data\n",
    "data_test=pd.read_csv('test.csv')\n",
    "\n",
    "# Creating labelEncoder\n",
    "le = preprocessing.LabelEncoder()\n",
    "\n",
    "# Converting string labels into numbers.\n",
    "data_test['salary']=le.fit_transform(data_test['salary'])\n",
    "data_test['workclass']=le.fit_transform(data_test['workclass'])\n",
    "data_test['education']=le.fit_transform(data_test['education'])\n",
    "data_test['marital-status']=le.fit_transform(data_test['marital-status'])\n",
    "data_test['occupation']=le.fit_transform(data_test['occupation'])\n",
    "data_test['relationship']=le.fit_transform(data_test['relationship'])\n",
    "data_test['race']=le.fit_transform(data_test['race'])\n",
    "data_test['sex']=le.fit_transform(data_test['sex'])\n",
    "data_test['native-country']=le.fit_transform(data_test['native-country'])\n",
    "\n",
    "X_test = data_test.drop('salary', axis=1)\n",
    "y_test = data_test['salary']\n",
    "\n",
    "X_test = preprocessing.MinMaxScaler().fit_transform(X_test)\n",
    "\n",
    "# predicting the test result using model\n",
    "\n",
    "y_pred = lreg.predict(X_test)"
   ]
  },
  {
   "cell_type": "code",
   "execution_count": 31,
   "metadata": {},
   "outputs": [
    {
     "data": {
      "image/png": "[encoded data removed]",
      "text/plain": [
       "<Figure size 504x504 with 2 Axes>"
      ]
     },
     "metadata": {
      "needs_background": "light"
     },
     "output_type": "display_data"
    }
   ],
   "source": [
    "# Visualising the confusion matrix\n",
    "\n",
    "cm = metrics.confusion_matrix(y_test, y_pred)\n",
    "plt.figure(figsize=(7,7))\n",
    "sns.heatmap(cm, annot=True, fmt=\"d\", linewidths=0.7, xticklabels=pd.unique(['0', '1']),yticklabels=pd.unique(['0', '1']))\n",
    "plt.show()"
   ]
  },
  {
   "cell_type": "code",
   "execution_count": 32,
   "metadata": {},
   "outputs": [
    {
     "name": "stdout",
     "output_type": "stream",
     "text": [
      "Accuracy:  81.94 %\n"
     ]
    }
   ],
   "source": [
    "# Calculating the accuracy for logistic reg.\n",
    "\n",
    "acc_class_lreg = metrics.accuracy_score(y_test, y_pred)\n",
    "print(\"Accuracy: \", round(acc_class_lreg*100,2),\"%\")"
   ]
  },
  {
   "cell_type": "code",
   "execution_count": 33,
   "metadata": {},
   "outputs": [],
   "source": [
    "# Fitting the perceptron model\n",
    "\n",
    "clf = Perceptron(max_iter = 1000,  n_jobs = -1, random_state=42)\n",
    "clf.fit(X, Y)\n",
    "clf_pred = clf.predict(X_test)"
   ]
  },
  {
   "cell_type": "code",
   "execution_count": 34,
   "metadata": {},
   "outputs": [
    {
     "data": {
      "image/png": "[encoded data removed]",
      "text/plain": [
       "<Figure size 504x504 with 2 Axes>"
      ]
     },
     "metadata": {
      "needs_background": "light"
     },
     "output_type": "display_data"
    }
   ],
   "source": [
    "# Visualizing the confusion matrix for perceptron\n",
    "\n",
    "cm1 = metrics.confusion_matrix(y_test, clf_pred)\n",
    "plt.figure(figsize=(7,7))\n",
    "sns.heatmap(cm1, annot=True, fmt=\"d\", linewidths=0.7, xticklabels=pd.unique(['0', '1']),yticklabels=pd.unique(['0', '1']))\n",
    "plt.show()"
   ]
  },
  {
   "cell_type": "code",
   "execution_count": 35,
   "metadata": {},
   "outputs": [
    {
     "name": "stdout",
     "output_type": "stream",
     "text": [
      "Accuracy:  24.13 %\n"
     ]
    }
   ],
   "source": [
    "# Calculating the accuracy for perceptron\n",
    "\n",
    "acc_class_percep = metrics.accuracy_score(y_test, clf_pred)\n",
    "print(\"Accuracy: \", round(acc_class_percep*100,2),\"%\")"
   ]
  },
  {
   "cell_type": "code",
   "execution_count": null,
   "metadata": {},
   "outputs": [],
   "source": []
  }
 ],
 "metadata": {
  "kernelspec": {
   "display_name": "Python 3 (ipykernel)",
   "language": "python",
   "name": "python3"
  },
  "language_info": {
   "codemirror_mode": {
    "name": "ipython",
    "version": 3
   },
   "file_extension": ".py",
   "mimetype": "text/x-python",
   "name": "python",
   "nbconvert_exporter": "python",
   "pygments_lexer": "ipython3",
   "version": "3.8.6"
  }
 },
 "nbformat": 4,
 "nbformat_minor": 4
}
