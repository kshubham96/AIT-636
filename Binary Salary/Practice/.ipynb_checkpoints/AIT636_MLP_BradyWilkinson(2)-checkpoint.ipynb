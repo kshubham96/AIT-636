{
 "cells": [
  {
   "cell_type": "markdown",
   "id": "7941a437",
   "metadata": {},
   "source": [
    "# Best Subset Feature Selection using Multi-Layer Perceptron\n",
    "\n",
    "## Contents\n",
    "\n",
    "- Multi-Layer Perceptron fitting with Pima Indians Diabetes data\n",
    "     - Data overview\n",
    "     - Data preprocessing\n",
    "     - MLP fitting\n",
    "     - MLP evaluation\n",
    "- Best Subset Feature Selection\n",
    "     - Function implementation\n",
    "     - Example"
   ]
  },
  {
   "cell_type": "code",
   "execution_count": 1,
   "id": "aa18dd65",
   "metadata": {},
   "outputs": [],
   "source": [
    "from sklearn import preprocessing\n",
    "from sklearn.model_selection import train_test_split, cross_val_score\n",
    "from sklearn.neural_network import MLPClassifier\n",
    "from sklearn.linear_model import Perceptron\n",
    "from sklearn.metrics import accuracy_score, confusion_matrix, ConfusionMatrixDisplay\n",
    "\n",
    "from itertools import combinations\n",
    "\n",
    "import pandas as pd\n",
    "\n",
    "import numpy as np\n",
    "\n",
    "import time"
   ]
  },
  {
   "cell_type": "markdown",
   "id": "3ec6815f",
   "metadata": {},
   "source": [
    "## Dataset\n",
    "### Pima Indians Diabetes dataset\n",
    "768 Observations of people classified as either having the onset of diabetes within 5 years (1) or not (0), given various medical attributes (binary classification with all numeric features).\n",
    "\n",
    " [More info](https://raw.githubusercontent.com/jbrownlee/Datasets/master/pima-indians-diabetes.names)\n",
    "\n",
    "[Download CSV](https://raw.githubusercontent.com/jbrownlee/Datasets/master/pima-indians-diabetes.csv)"
   ]
  },
  {
   "cell_type": "code",
   "execution_count": 2,
   "id": "3437982f",
   "metadata": {},
   "outputs": [
    {
     "data": {
      "text/html": [
       "<div>\n",
       "<style scoped>\n",
       "    .dataframe tbody tr th:only-of-type {\n",
       "        vertical-align: middle;\n",
       "    }\n",
       "\n",
       "    .dataframe tbody tr th {\n",
       "        vertical-align: top;\n",
       "    }\n",
       "\n",
       "    .dataframe thead th {\n",
       "        text-align: right;\n",
       "    }\n",
       "</style>\n",
       "<table border=\"1\" class=\"dataframe\">\n",
       "  <thead>\n",
       "    <tr style=\"text-align: right;\">\n",
       "      <th></th>\n",
       "      <th>pregnant_cnt</th>\n",
       "      <th>glucose</th>\n",
       "      <th>blood_pressure</th>\n",
       "      <th>triceps_skinfold</th>\n",
       "      <th>insulin</th>\n",
       "      <th>bmi</th>\n",
       "      <th>diabetes_pedigree</th>\n",
       "      <th>age</th>\n",
       "      <th>label</th>\n",
       "    </tr>\n",
       "  </thead>\n",
       "  <tbody>\n",
       "    <tr>\n",
       "      <th>0</th>\n",
       "      <td>6</td>\n",
       "      <td>148</td>\n",
       "      <td>72</td>\n",
       "      <td>35</td>\n",
       "      <td>0</td>\n",
       "      <td>33.6</td>\n",
       "      <td>0.627</td>\n",
       "      <td>50</td>\n",
       "      <td>1</td>\n",
       "    </tr>\n",
       "    <tr>\n",
       "      <th>1</th>\n",
       "      <td>1</td>\n",
       "      <td>85</td>\n",
       "      <td>66</td>\n",
       "      <td>29</td>\n",
       "      <td>0</td>\n",
       "      <td>26.6</td>\n",
       "      <td>0.351</td>\n",
       "      <td>31</td>\n",
       "      <td>0</td>\n",
       "    </tr>\n",
       "    <tr>\n",
       "      <th>2</th>\n",
       "      <td>8</td>\n",
       "      <td>183</td>\n",
       "      <td>64</td>\n",
       "      <td>0</td>\n",
       "      <td>0</td>\n",
       "      <td>23.3</td>\n",
       "      <td>0.672</td>\n",
       "      <td>32</td>\n",
       "      <td>1</td>\n",
       "    </tr>\n",
       "    <tr>\n",
       "      <th>3</th>\n",
       "      <td>1</td>\n",
       "      <td>89</td>\n",
       "      <td>66</td>\n",
       "      <td>23</td>\n",
       "      <td>94</td>\n",
       "      <td>28.1</td>\n",
       "      <td>0.167</td>\n",
       "      <td>21</td>\n",
       "      <td>0</td>\n",
       "    </tr>\n",
       "    <tr>\n",
       "      <th>4</th>\n",
       "      <td>0</td>\n",
       "      <td>137</td>\n",
       "      <td>40</td>\n",
       "      <td>35</td>\n",
       "      <td>168</td>\n",
       "      <td>43.1</td>\n",
       "      <td>2.288</td>\n",
       "      <td>33</td>\n",
       "      <td>1</td>\n",
       "    </tr>\n",
       "  </tbody>\n",
       "</table>\n",
       "</div>"
      ],
      "text/plain": [
       "   pregnant_cnt  glucose  blood_pressure  triceps_skinfold  insulin   bmi  \\\n",
       "0             6      148              72                35        0  33.6   \n",
       "1             1       85              66                29        0  26.6   \n",
       "2             8      183              64                 0        0  23.3   \n",
       "3             1       89              66                23       94  28.1   \n",
       "4             0      137              40                35      168  43.1   \n",
       "\n",
       "   diabetes_pedigree  age  label  \n",
       "0              0.627   50      1  \n",
       "1              0.351   31      0  \n",
       "2              0.672   32      1  \n",
       "3              0.167   21      0  \n",
       "4              2.288   33      1  "
      ]
     },
     "execution_count": 2,
     "metadata": {},
     "output_type": "execute_result"
    }
   ],
   "source": [
    "# reading and cleaning data\n",
    "df = pd.read_csv('pima-indians-diabetes.data', sep=',', header=None)\n",
    "\n",
    "# columns are currently named by numbers 0:8, with 8 containing the class of the observation.\n",
    "# Renaming to easier identify columns.\n",
    "\n",
    "# feature names created from column descriptions\n",
    "features = [\n",
    "    'pregnant_cnt',\n",
    "    'glucose',\n",
    "    'blood_pressure',\n",
    "    'triceps_skinfold',\n",
    "    'insulin',\n",
    "    'bmi',\n",
    "    'diabetes_pedigree',\n",
    "    'age'\n",
    "]\n",
    "\n",
    "for i in range(8):\n",
    "    df = df.rename(columns = {i : features[i]})\n",
    "\n",
    "df = df.rename(columns = {8 : 'label'})\n",
    "df.head()"
   ]
  },
  {
   "cell_type": "code",
   "execution_count": 3,
   "id": "bae0a4af",
   "metadata": {},
   "outputs": [
    {
     "data": {
      "text/plain": [
       "<AxesSubplot:>"
      ]
     },
     "execution_count": 3,
     "metadata": {},
     "output_type": "execute_result"
    },
    {
     "data": {
      "image/png": "[encoded data removed]",
      "text/plain": [
       "<Figure size 432x288 with 1 Axes>"
      ]
     },
     "metadata": {
      "needs_background": "light"
     },
     "output_type": "display_data"
    }
   ],
   "source": [
    "# displaying data\n",
    "df['label'].value_counts().plot(kind='barh')"
   ]
  },
  {
   "cell_type": "code",
   "execution_count": 4,
   "id": "ec9ce49f",
   "metadata": {},
   "outputs": [],
   "source": [
    "# creating train and test splits for X (feature values) and y (labels)\n",
    "X = df.drop(['label'], axis=1)\n",
    "y = df['label']\n",
    "\n",
    "# creating training and testing data splits, setting the split at 30% test and 70% train.\n",
    "test_size = 0.3\n",
    "X_train, X_test, y_train, y_test = train_test_split(X, y, test_size = test_size, stratify = y, random_state = 0)\n",
    "\n",
    "# Standardizing data (mapping to CHECK) to allow for faster convergence.\n",
    "sc = preprocessing.StandardScaler()\n",
    "# fit StandardScaler only on training data, as to not bias the data with information outside of training scope\n",
    "sc.fit(X_train)\n",
    "\n",
    "# using fit StandardScalar to standardize feature data (every feature is numerical).\n",
    "X_train_scaled = sc.transform(X_train)\n",
    "X_test_scaled = sc.transform(X_test)"
   ]
  },
  {
   "cell_type": "markdown",
   "id": "6450d583",
   "metadata": {},
   "source": [
    "[scikit-learn multi-layer perceptron classifier](https://scikit-learn.org/stable/modules/generated/sklearn.neural_network.MLPClassifier.html)\n",
    "### Fitting and predicting using multi-layer perceptron\n",
    "**Params:**\n",
    "- *hidden_layer_sizes*: the size of each hidden layer\n",
    "- *activation*: specifying activation function for hidden layers {identity, logistic, tanh, relu}\n",
    "- *solver*: specifying solver for weight optimization {lbfgs, sgd, adam}\n",
    "- *alpha*: L2 penalty parameter, specifies value to shrink certain nodes to help prevent overfitting\n",
    "- *max_iter*: how many iterations we allow the model to attempt to converge\n",
    "- *random_state*: setting random state for repeatability"
   ]
  },
  {
   "cell_type": "code",
   "execution_count": 5,
   "id": "a38f45a2",
   "metadata": {},
   "outputs": [],
   "source": [
    "# initializing parameters for easier understanding\n",
    "hidden_layer_sizes = (100,100,100)\n",
    "activation = 'relu'\n",
    "solver = 'adam'\n",
    "alpha = 0.0001\n",
    "n_iter = 500\n",
    "random_state = 0\n",
    "\n",
    "# creating and fitting multi-layer perceptron\n",
    "mlp = MLPClassifier(\n",
    "    hidden_layer_sizes = hidden_layer_sizes,\n",
    "    activation = activation,\n",
    "    solver = solver,\n",
    "    alpha = alpha,\n",
    "    max_iter=n_iter,\n",
    "    random_state=random_state\n",
    ")\n",
    "mlp.fit(X_train_scaled, y_train)\n",
    "\n",
    "# using fitted multi-layer perceptron to predict on test data\n",
    "y_pred = mlp.predict(X_test_scaled)"
   ]
  },
  {
   "cell_type": "code",
   "execution_count": 6,
   "id": "4c065e16",
   "metadata": {},
   "outputs": [
    {
     "name": "stdout",
     "output_type": "stream",
     "text": [
      "Accuracy: 0.7403\n",
      "10-fold CV Score: 0.7018\n",
      "Precision: 0.6438\n",
      "Recall: 0.5802\n"
     ]
    },
    {
     "data": {
      "text/plain": [
       "<sklearn.metrics._plot.confusion_matrix.ConfusionMatrixDisplay at 0x12fda718c70>"
      ]
     },
     "execution_count": 6,
     "metadata": {},
     "output_type": "execute_result"
    },
    {
     "data": {
      "image/png": "[encoded data removed]",
      "text/plain": [
       "<Figure size 432x288 with 2 Axes>"
      ]
     },
     "metadata": {
      "needs_background": "light"
     },
     "output_type": "display_data"
    }
   ],
   "source": [
    "# creating confusion matrix\n",
    "cm = confusion_matrix(y_test, y_pred, labels=mlp.classes_)\n",
    "\n",
    "# outputting accuracy score\n",
    "print(f'Accuracy: {accuracy_score(y_test, y_pred):.4f}')\n",
    "\n",
    "# 10-fold cross-validation\n",
    "print(f'10-fold CV Score: {cross_val_score(mlp, X, y, cv=10).mean():.4f}')\n",
    "\n",
    "# getting precision and recall\n",
    "tp = cm[1][1]\n",
    "tn = cm[0][0]\n",
    "fp = cm[0][1]\n",
    "fn = cm[1][0]\n",
    "\n",
    "print(f'Precision: {tp/(tp+fp):.4f}\\nRecall: {tp/(tp+fn):.4f}')\n",
    "\n",
    "# plotting confusion matrix\n",
    "cm_display = ConfusionMatrixDisplay(confusion_matrix=cm, display_labels=mlp.classes_)\n",
    "cm_display.plot()"
   ]
  },
  {
   "cell_type": "markdown",
   "id": "0441d8b4",
   "metadata": {},
   "source": [
    "## Best feature subset\n",
    "There is currently no functionality built into sklearn to identify best feature subsets. Therefore, our own function must be written to accomplish this. The functions defined below select the best subset of features for a given subset length using its cross validation score."
   ]
  },
  {
   "cell_type": "code",
   "execution_count": 7,
   "id": "0bd1746c",
   "metadata": {},
   "outputs": [],
   "source": [
    "# finding best feature subset\n",
    "\n",
    "# params\n",
    "# X: feature values\n",
    "# y: labels\n",
    "# model: fitted classifier object\n",
    "# subset_len: how many features the desired feature subset will have\n",
    "# cv: number of folds for cross validation scoring\n",
    "def best_subset(X, y, model, subset_len, cv=3, verbose=False):\n",
    "    \n",
    "    # for elapsed time\n",
    "    start = time.time()\n",
    "    \n",
    "    # getting number of features\n",
    "    l = X.shape[1]\n",
    "    \n",
    "    # getting all the different possible combinations of features for the given\n",
    "    # subset length\n",
    "    subsets = list(combinations(range(l), subset_len))\n",
    "    print(f'{len(subsets)} total combinations for subset length {subset_len}.')\n",
    "    \n",
    "    # setting baseline values for best score and subset to update later\n",
    "    best_score = -np.inf\n",
    "    best_subset = None\n",
    "    \n",
    "    # iterating through possible combinations\n",
    "    for subset in subsets:\n",
    "        \n",
    "        # subset is currently an index, need to get feature names to select df\n",
    "        subset_nm = [X.columns[i] for i in subset]\n",
    "        \n",
    "        # getting CV score from model with subsetted features\n",
    "        score = cross_val_score(model, X[subset_nm], y, cv=cv).mean()\n",
    "        \n",
    "        if verbose:\n",
    "            print(f'Current subset: {subset_nm}\\nScore: {score}')\n",
    "        \n",
    "        # updating best score and best subset if a new best score happens\n",
    "        if score > best_score:\n",
    "            best_score, best_subset = score, subset\n",
    "            \n",
    "    # for elapsed time\n",
    "    end = time.time()\n",
    "    \n",
    "    # printing and returning metrics\n",
    "    print(f'Elapsed time: {int((end - start)/60)} min. and {(end - start)%60} sec.\\n')\n",
    "    return [[X.columns[i] for i in best_subset], best_score]\n",
    "\n",
    "# Function to iterate through multiple subset lengths and return a df of\n",
    "# associated features and CV scores\n",
    "#\n",
    "# params\n",
    "# X: feature values\n",
    "# y: labels\n",
    "# model: fitted classifier object\n",
    "# min_subset_len: lowest number of features for a subset\n",
    "# max_subset_len: greatest number of features for a subset\n",
    "# cv: number of folds for cross validation scoring\n",
    "# verbose: prints each combination\n",
    "def best_subsets(X, y, model, min_subset_len, max_subset_len, cv=3, verbose=False):\n",
    "    \n",
    "    # lists to later create df with\n",
    "    subset_length = list()\n",
    "    subset_features = list()\n",
    "    subset_cv_score = list()\n",
    "    \n",
    "    # iterating through desired subset lengths\n",
    "    for i in range(min_subset_len, max_subset_len+1):\n",
    "        best = best_subset(X, y, mlp, i, cv=cv, verbose=verbose)\n",
    "        \n",
    "        # adding to lists to create df with later\n",
    "        subset_length.append(i)\n",
    "        subset_features.append(best[0])\n",
    "        subset_cv_score.append(best[1])\n",
    "        \n",
    "    # creating and returning dataframe with length, feature list, and score for\n",
    "    # each desired subset length\n",
    "    df = pd.DataFrame(data={'length': subset_length, 'features': subset_features, 'cv_score': subset_cv_score})\n",
    "    return df"
   ]
  },
  {
   "cell_type": "markdown",
   "id": "f3deaf01",
   "metadata": {},
   "source": [
    "## example runs for best feature subset"
   ]
  },
  {
   "cell_type": "code",
   "execution_count": 10,
   "id": "70135596",
   "metadata": {},
   "outputs": [
    {
     "name": "stdout",
     "output_type": "stream",
     "text": [
      "28 total combinations for subset length 6.\n",
      "Current subset: ['pregnant_cnt', 'glucose', 'blood_pressure', 'triceps_skinfold', 'insulin', 'bmi']\n",
      "Score: 0.6419270833333334\n",
      "Current subset: ['pregnant_cnt', 'glucose', 'blood_pressure', 'triceps_skinfold', 'insulin', 'diabetes_pedigree']\n",
      "Score: 0.6549479166666666\n",
      "Current subset: ['pregnant_cnt', 'glucose', 'blood_pressure', 'triceps_skinfold', 'insulin', 'age']\n",
      "Score: 0.6822916666666666\n",
      "Current subset: ['pregnant_cnt', 'glucose', 'blood_pressure', 'triceps_skinfold', 'bmi', 'diabetes_pedigree']\n",
      "Score: 0.6901041666666666\n",
      "Current subset: ['pregnant_cnt', 'glucose', 'blood_pressure', 'triceps_skinfold', 'bmi', 'age']\n",
      "Score: 0.6966145833333334\n",
      "Current subset: ['pregnant_cnt', 'glucose', 'blood_pressure', 'triceps_skinfold', 'diabetes_pedigree', 'age']\n",
      "Score: 0.6927083333333334\n",
      "Current subset: ['pregnant_cnt', 'glucose', 'blood_pressure', 'insulin', 'bmi', 'diabetes_pedigree']\n",
      "Score: 0.6692708333333334\n",
      "Current subset: ['pregnant_cnt', 'glucose', 'blood_pressure', 'insulin', 'bmi', 'age']\n",
      "Score: 0.6848958333333334\n",
      "Current subset: ['pregnant_cnt', 'glucose', 'blood_pressure', 'insulin', 'diabetes_pedigree', 'age']\n",
      "Score: 0.6783854166666666\n",
      "Current subset: ['pregnant_cnt', 'glucose', 'blood_pressure', 'bmi', 'diabetes_pedigree', 'age']\n",
      "Score: 0.7044270833333334\n",
      "Current subset: ['pregnant_cnt', 'glucose', 'triceps_skinfold', 'insulin', 'bmi', 'diabetes_pedigree']\n",
      "Score: 0.6458333333333334\n",
      "Current subset: ['pregnant_cnt', 'glucose', 'triceps_skinfold', 'insulin', 'bmi', 'age']\n",
      "Score: 0.6354166666666666\n",
      "Current subset: ['pregnant_cnt', 'glucose', 'triceps_skinfold', 'insulin', 'diabetes_pedigree', 'age']\n",
      "Score: 0.6197916666666666\n",
      "Current subset: ['pregnant_cnt', 'glucose', 'triceps_skinfold', 'bmi', 'diabetes_pedigree', 'age']\n",
      "Score: 0.6497395833333334\n",
      "Current subset: ['pregnant_cnt', 'glucose', 'insulin', 'bmi', 'diabetes_pedigree', 'age']\n",
      "Score: 0.6536458333333334\n",
      "Current subset: ['pregnant_cnt', 'blood_pressure', 'triceps_skinfold', 'insulin', 'bmi', 'diabetes_pedigree']\n",
      "Score: 0.66796875\n",
      "Current subset: ['pregnant_cnt', 'blood_pressure', 'triceps_skinfold', 'insulin', 'bmi', 'age']\n",
      "Score: 0.6510416666666666\n",
      "Current subset: ['pregnant_cnt', 'blood_pressure', 'triceps_skinfold', 'insulin', 'diabetes_pedigree', 'age']\n",
      "Score: 0.6614583333333334\n",
      "Current subset: ['pregnant_cnt', 'blood_pressure', 'triceps_skinfold', 'bmi', 'diabetes_pedigree', 'age']\n",
      "Score: 0.6640625\n",
      "Current subset: ['pregnant_cnt', 'blood_pressure', 'insulin', 'bmi', 'diabetes_pedigree', 'age']\n",
      "Score: 0.6666666666666666\n",
      "Current subset: ['pregnant_cnt', 'triceps_skinfold', 'insulin', 'bmi', 'diabetes_pedigree', 'age']\n",
      "Score: 0.640625\n",
      "Current subset: ['glucose', 'blood_pressure', 'triceps_skinfold', 'insulin', 'bmi', 'diabetes_pedigree']\n",
      "Score: 0.6432291666666666\n",
      "Current subset: ['glucose', 'blood_pressure', 'triceps_skinfold', 'insulin', 'bmi', 'age']\n",
      "Score: 0.6705729166666666\n",
      "Current subset: ['glucose', 'blood_pressure', 'triceps_skinfold', 'insulin', 'diabetes_pedigree', 'age']\n",
      "Score: 0.6744791666666666\n",
      "Current subset: ['glucose', 'blood_pressure', 'triceps_skinfold', 'bmi', 'diabetes_pedigree', 'age']\n",
      "Score: 0.6901041666666666\n",
      "Current subset: ['glucose', 'blood_pressure', 'insulin', 'bmi', 'diabetes_pedigree', 'age']\n",
      "Score: 0.6888020833333334\n",
      "Current subset: ['glucose', 'triceps_skinfold', 'insulin', 'bmi', 'diabetes_pedigree', 'age']\n",
      "Score: 0.6458333333333334\n",
      "Current subset: ['blood_pressure', 'triceps_skinfold', 'insulin', 'bmi', 'diabetes_pedigree', 'age']\n",
      "Score: 0.6588541666666666\n",
      "Elapsed time: 0 min. and 38.325958013534546 sec.\n",
      "\n"
     ]
    },
    {
     "data": {
      "text/plain": [
       "[['pregnant_cnt',\n",
       "  'glucose',\n",
       "  'blood_pressure',\n",
       "  'bmi',\n",
       "  'diabetes_pedigree',\n",
       "  'age'],\n",
       " 0.7044270833333334]"
      ]
     },
     "execution_count": 10,
     "metadata": {},
     "output_type": "execute_result"
    }
   ],
   "source": [
    "# first, we will find the best subset for 6 features with verbose=True to show\n",
    "# process of scoring all subsets\n",
    "best_subset(X, y, mlp, 6, verbose=True)"
   ]
  },
  {
   "cell_type": "code",
   "execution_count": 11,
   "id": "b17e9d40",
   "metadata": {},
   "outputs": [
    {
     "name": "stdout",
     "output_type": "stream",
     "text": [
      "8 total combinations for subset length 1.\n",
      "Elapsed time: 0 min. and 5.989090442657471 sec.\n",
      "\n",
      "28 total combinations for subset length 2.\n",
      "Elapsed time: 0 min. and 25.381166458129883 sec.\n",
      "\n",
      "56 total combinations for subset length 3.\n",
      "Elapsed time: 1 min. and 13.22566270828247 sec.\n",
      "\n",
      "70 total combinations for subset length 4.\n",
      "Elapsed time: 1 min. and 22.834959506988525 sec.\n",
      "\n",
      "56 total combinations for subset length 5.\n",
      "Elapsed time: 0 min. and 56.1278018951416 sec.\n",
      "\n",
      "28 total combinations for subset length 6.\n",
      "Elapsed time: 0 min. and 38.1639358997345 sec.\n",
      "\n",
      "8 total combinations for subset length 7.\n",
      "Elapsed time: 0 min. and 8.613581895828247 sec.\n",
      "\n",
      "1 total combinations for subset length 8.\n",
      "Elapsed time: 0 min. and 1.9814140796661377 sec.\n",
      "\n",
      "Top three feature subsets:\n",
      "   length                                           features  cv_score\n",
      "4       5  [glucose, blood_pressure, bmi, diabetes_pedigr...  0.726562\n",
      "2       3                     [glucose, blood_pressure, age]  0.713542\n",
      "3       4  [glucose, blood_pressure, diabetes_pedigree, age]  0.712240\n",
      "Best feature subset:\n",
      "['glucose', 'blood_pressure', 'bmi', 'diabetes_pedigree', 'age']\n"
     ]
    }
   ],
   "source": [
    "# next, we will search for the best subset between 1 feature and 8 features.\n",
    "\n",
    "subsets_df = best_subsets(X, y, mlp, min_subset_len=1, max_subset_len=8, cv=3)\n",
    "print('Top three feature subsets:')\n",
    "print(subsets_df.sort_values(by='cv_score', ascending=False).head(3))\n",
    "best_subset_ftrs = subsets_df[subsets_df.cv_score == max(subsets_df.cv_score)]\n",
    "print('Best feature subset:')\n",
    "for f in best_subset_ftrs.features:\n",
    "    print(f)"
   ]
  }
 ],
 "metadata": {
  "kernelspec": {
   "display_name": "Python 3 (ipykernel)",
   "language": "python",
   "name": "python3"
  },
  "language_info": {
   "codemirror_mode": {
    "name": "ipython",
    "version": 3
   },
   "file_extension": ".py",
   "mimetype": "text/x-python",
   "name": "python",
   "nbconvert_exporter": "python",
   "pygments_lexer": "ipython3",
   "version": "3.10.2"
  }
 },
 "nbformat": 4,
 "nbformat_minor": 5
}
